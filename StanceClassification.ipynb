{
  "nbformat": 4,
  "nbformat_minor": 0,
  "metadata": {
    "colab": {
      "name": "StanceClassification.ipynb",
      "version": "0.3.2",
      "provenance": [],
      "collapsed_sections": [],
      "include_colab_link": true
    },
    "language_info": {
      "codemirror_mode": {
        "name": "ipython",
        "version": 3
      },
      "file_extension": ".py",
      "mimetype": "text/x-python",
      "name": "python",
      "nbconvert_exporter": "python",
      "pygments_lexer": "ipython3",
      "version": "3.7.3"
    },
    "kernelspec": {
      "name": "python3",
      "display_name": "Python 3"
    },
    "accelerator": "GPU"
  },
  "cells": [
    {
      "cell_type": "markdown",
      "metadata": {
        "id": "view-in-github",
        "colab_type": "text"
      },
      "source": [
        "<a href=\"https://colab.research.google.com/github/zrthxn/colaboratory/blob/master/StanceClassification.ipynb\" target=\"_parent\"><img src=\"https://colab.research.google.com/assets/colab-badge.svg\" alt=\"Open In Colab\"/></a>"
      ]
    },
    {
      "cell_type": "code",
      "metadata": {
        "id": "KCor5I-JHTPe",
        "colab_type": "code",
        "colab": {
          "base_uri": "https://localhost:8080/",
          "height": 52
        },
        "outputId": "e36cc863-8607-4363-e44e-d30e277e4e2a"
      },
      "source": [
        "# !pip install pandas\n",
        "# !pip install numpy\n",
        "# !pip install tensorflow"
      ],
      "execution_count": 3,
      "outputs": [
        {
          "output_type": "stream",
          "text": [
            "Cloning into 'NewsAnalysis'...\n",
            "fatal: could not read Username for 'https://github.com': No such device or address\n"
          ],
          "name": "stdout"
        }
      ]
    },
    {
      "cell_type": "code",
      "metadata": {
        "id": "uFPP6nReHTPj",
        "colab_type": "code",
        "colab": {}
      },
      "source": [
        "# README #\n",
        "\n",
        "# Stance Classification\n",
        "# ---------------------\n",
        "# \n",
        "\n",
        "DATADIR = './train_stances.csv'"
      ],
      "execution_count": 0,
      "outputs": []
    },
    {
      "cell_type": "code",
      "metadata": {
        "id": "I_APbgubHTPl",
        "colab_type": "code",
        "colab": {
          "base_uri": "https://localhost:8080/",
          "height": 52
        },
        "outputId": "d4cbf1ae-d061-4328-bfbe-734c6eb96d9b"
      },
      "source": [
        "# Data Fetching and Preprocessing #\n",
        "\n",
        "import numpy as np\n",
        "import pandas as pd\n",
        "\n",
        "train_data = pd.read_csv( DATADIR )\n",
        "test_data = pd.read_csv( DATADIR )\n",
        "\n",
        "X_train = np.array(train_data['Headline'])\n",
        "y_train = np.array(train_data['Stance'])\n",
        "\n",
        "print(X_train[0])\n",
        "print(y_train[0])"
      ],
      "execution_count": 11,
      "outputs": [
        {
          "output_type": "stream",
          "text": [
            "Police find mass graves with at least '15 bodies' near Mexico town where 43 students disappeared after police clash\n",
            "unrelated\n"
          ],
          "name": "stdout"
        }
      ]
    },
    {
      "cell_type": "code",
      "metadata": {
        "id": "nf9soPiLHTPo",
        "colab_type": "code",
        "colab": {}
      },
      "source": [
        "import tensorflow as tf\n",
        "from tensorflow.keras.models import Sequential\n",
        "from tensorflow.keras.layers import Dense, Dropout\n",
        "# from tensorflow.keras.layers import LSTM\n",
        "from tensorflow.keras.layers import CuDNNLSTM\n",
        "\n",
        "model = Sequential()\n",
        "\n",
        "model.add( CuDNNLSTM(128, input_shape=(X_train.shape[1:]), activation='relu', return_sequences=True )\n",
        "model.add( Dense() )"
      ],
      "execution_count": 0,
      "outputs": []
    }
  ]
}